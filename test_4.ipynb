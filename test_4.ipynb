{
 "cells": [
  {
   "cell_type": "markdown",
   "metadata": {},
   "source": [
    "### REPOSITORY\n",
    "*/rɪˈpɒsɪt(ə)ri/\n",
    "\n",
    "**NOUN**\n",
    "* A place where or receptacle in which things are or may be stored.\n",
    "\"a deep repository for nuclear waste\"\n",
    "* A place where something, especially a natural resource, is found in significant quantities.\n",
    "\"accessible repositories of water\"\n",
    "\n",
    "**COMPUTING**\n",
    "* A central location in which data is stored and managed.\n",
    "\"the metadata will be aggregated in a repository\""
   ]
  },
  {
   "cell_type": "code",
   "execution_count": null,
   "metadata": {},
   "outputs": [],
   "source": []
  }
 ],
 "metadata": {
  "kernelspec": {
   "display_name": "Python 3",
   "language": "python",
   "name": "python3"
  },
  "language_info": {
   "codemirror_mode": {
    "name": "ipython",
    "version": 3
   },
   "file_extension": ".py",
   "mimetype": "text/x-python",
   "name": "python",
   "nbconvert_exporter": "python",
   "pygments_lexer": "ipython3",
   "version": "3.8.5"
  }
 },
 "nbformat": 4,
 "nbformat_minor": 4
}
