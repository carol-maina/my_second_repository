{
 "cells": [
  {
   "cell_type": "markdown",
   "metadata": {},
   "source": [
    "## LEARNING\n",
    "* Learning doesnt come easy, you always strive to be better by the day.\n",
    "* Practise makes perfect, so with practise, learning gets easier and you are on the right path.\n",
    "* Determination is crucial in the quest of knowledge, strive to get to the end.\n",
    "* Goal settinng is very important also as it ensures you are on the right path and know what results you hope too at the end.\n",
    "** without a doubt everything is achievable with focus and the right mindset"
   ]
  },
  {
   "cell_type": "code",
   "execution_count": null,
   "metadata": {},
   "outputs": [],
   "source": []
  }
 ],
 "metadata": {
  "kernelspec": {
   "display_name": "Python 3",
   "language": "python",
   "name": "python3"
  },
  "language_info": {
   "codemirror_mode": {
    "name": "ipython",
    "version": 3
   },
   "file_extension": ".py",
   "mimetype": "text/x-python",
   "name": "python",
   "nbconvert_exporter": "python",
   "pygments_lexer": "ipython3",
   "version": "3.8.5"
  }
 },
 "nbformat": 4,
 "nbformat_minor": 4
}
